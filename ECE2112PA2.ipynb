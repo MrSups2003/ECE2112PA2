{
 "cells": [
  {
   "cell_type": "code",
   "execution_count": null,
   "id": "e4755329-3e6b-4690-a008-5a7fc0fa7f89",
   "metadata": {},
   "outputs": [],
   "source": [
    "import numpy as np"
   ]
  },
  {
   "cell_type": "code",
   "execution_count": null,
   "id": "e85f2e09-d4ca-4bd7-a208-e60b68e316f4",
   "metadata": {},
   "outputs": [],
   "source": [
    "X = np.random.random((5,5)) # We create a random array using np.random.random with a 5x5 square\n",
    "Z = (X-(X.mean()))/X.std() # I utilize the mean and standard deviation calls\n",
    "print(Z) # Print Z for array elements\n",
    "np.save('X_normalized.npy',Z) # Saving this as X_normalized.npy"
   ]
  },
  {
   "cell_type": "code",
   "execution_count": null,
   "id": "c1fe0314-50d4-41e8-a68e-b5946a401b2f",
   "metadata": {},
   "outputs": [],
   "source": [
    "np.load('X_normalized.npy')"
   ]
  },
  {
   "cell_type": "code",
   "execution_count": null,
   "id": "8a0ae398-4a3a-4097-8207-bac9bdf9f815",
   "metadata": {},
   "outputs": [],
   "source": [
    "A = np.arange(1,101) # First we set up an array ranging from 1 to 100\n",
    "B=A.reshape(10,10) # We then reshape the array to a 10x10 square ( I just used variable B)\n",
    "C=B**2 # Here we use variable C to identify as the squared elements of the array\n",
    "print(\"Here is the array with elements in squares:\")\n",
    "print(C) # Here I just want to iterate the original elements of the array\n",
    "\n",
    "print(\"Here are the elements that are Divisible by 3\")\n",
    "print(C[C%3==0]) # I used indexing to determine elements that are divisible by 3 \n",
    "np.save('div_by_3.npy',C[C%3==0]) # saving the results as 'div_by_3.npy'"
   ]
  },
  {
   "cell_type": "code",
   "execution_count": null,
   "id": "e35b0a8a-cba6-4137-9969-579c31d25ab5",
   "metadata": {},
   "outputs": [],
   "source": [
    "np.load('div_by_3.npy')"
   ]
  }
 ],
 "metadata": {
  "kernelspec": {
   "display_name": "Python 3 (ipykernel)",
   "language": "python",
   "name": "python3"
  },
  "language_info": {
   "codemirror_mode": {
    "name": "ipython",
    "version": 3
   },
   "file_extension": ".py",
   "mimetype": "text/x-python",
   "name": "python",
   "nbconvert_exporter": "python",
   "pygments_lexer": "ipython3",
   "version": "3.12.4"
  }
 },
 "nbformat": 4,
 "nbformat_minor": 5
}
